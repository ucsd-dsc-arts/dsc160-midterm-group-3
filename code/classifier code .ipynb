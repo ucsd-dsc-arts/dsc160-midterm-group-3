{
 "cells": [
  {
   "cell_type": "code",
   "execution_count": 1,
   "metadata": {},
   "outputs": [],
   "source": [
    "from bs4 import BeautifulSoup\n",
    "import os\n",
    "import requests\n",
    "import pandas as pd\n",
    "import numpy as np\n",
    "import matplotlib.pyplot as plt\n",
    "from skimage import io\n",
    "import skimage\n",
    "import scipy.misc\n",
    "from skimage import data\n",
    "from skimage.color import rgb2hsv\n",
    "from skimage.color import rgb2gray"
   ]
  },
  {
   "cell_type": "code",
   "execution_count": 2,
   "metadata": {},
   "outputs": [
    {
     "data": {
      "text/plain": [
       "'/Users/sravyavoleti/Desktop/dsc160-midterm-group-3-master/code'"
      ]
     },
     "execution_count": 2,
     "metadata": {},
     "output_type": "execute_result"
    }
   ],
   "source": [
    "pwd"
   ]
  },
  {
   "cell_type": "code",
   "execution_count": 5,
   "metadata": {
    "scrolled": false
   },
   "outputs": [
    {
     "data": {
      "text/html": [
       "<div>\n",
       "<style scoped>\n",
       "    .dataframe tbody tr th:only-of-type {\n",
       "        vertical-align: middle;\n",
       "    }\n",
       "\n",
       "    .dataframe tbody tr th {\n",
       "        vertical-align: top;\n",
       "    }\n",
       "\n",
       "    .dataframe thead th {\n",
       "        text-align: right;\n",
       "    }\n",
       "</style>\n",
       "<table border=\"1\" class=\"dataframe\">\n",
       "  <thead>\n",
       "    <tr style=\"text-align: right;\">\n",
       "      <th></th>\n",
       "      <th>Unnamed: 0</th>\n",
       "      <th>name</th>\n",
       "      <th>year</th>\n",
       "      <th>nationality</th>\n",
       "      <th>width</th>\n",
       "      <th>height</th>\n",
       "      <th>mean_hue</th>\n",
       "      <th>mean_saturation</th>\n",
       "      <th>mean_brightness</th>\n",
       "    </tr>\n",
       "  </thead>\n",
       "  <tbody>\n",
       "    <tr>\n",
       "      <th>0</th>\n",
       "      <td>0</td>\n",
       "      <td>the-luxury</td>\n",
       "      <td>1420.0</td>\n",
       "      <td>Italian</td>\n",
       "      <td>475.0</td>\n",
       "      <td>399.0</td>\n",
       "      <td>0.094827</td>\n",
       "      <td>0.265359</td>\n",
       "      <td>0.860508</td>\n",
       "    </tr>\n",
       "    <tr>\n",
       "      <th>1</th>\n",
       "      <td>1</td>\n",
       "      <td>madonna-and-quail</td>\n",
       "      <td>NaN</td>\n",
       "      <td>Italian</td>\n",
       "      <td>570.0</td>\n",
       "      <td>900.0</td>\n",
       "      <td>0.125429</td>\n",
       "      <td>0.467760</td>\n",
       "      <td>0.606830</td>\n",
       "    </tr>\n",
       "    <tr>\n",
       "      <th>2</th>\n",
       "      <td>2</td>\n",
       "      <td>apes</td>\n",
       "      <td>1430.0</td>\n",
       "      <td>Italian</td>\n",
       "      <td>475.0</td>\n",
       "      <td>452.0</td>\n",
       "      <td>0.000000</td>\n",
       "      <td>0.000000</td>\n",
       "      <td>0.796526</td>\n",
       "    </tr>\n",
       "    <tr>\n",
       "      <th>3</th>\n",
       "      <td>3</td>\n",
       "      <td>hanged-men-and-two-portraits</td>\n",
       "      <td>1430.0</td>\n",
       "      <td>Italian</td>\n",
       "      <td>331.0</td>\n",
       "      <td>475.0</td>\n",
       "      <td>0.000000</td>\n",
       "      <td>0.000000</td>\n",
       "      <td>0.864136</td>\n",
       "    </tr>\n",
       "    <tr>\n",
       "      <th>4</th>\n",
       "      <td>4</td>\n",
       "      <td>stork</td>\n",
       "      <td>1430.0</td>\n",
       "      <td>Italian</td>\n",
       "      <td>432.0</td>\n",
       "      <td>475.0</td>\n",
       "      <td>0.110739</td>\n",
       "      <td>0.319730</td>\n",
       "      <td>0.809044</td>\n",
       "    </tr>\n",
       "  </tbody>\n",
       "</table>\n",
       "</div>"
      ],
      "text/plain": [
       "   Unnamed: 0                          name    year nationality  width  \\\n",
       "0           0                    the-luxury  1420.0     Italian  475.0   \n",
       "1           1             madonna-and-quail     NaN     Italian  570.0   \n",
       "2           2                          apes  1430.0     Italian  475.0   \n",
       "3           3  hanged-men-and-two-portraits  1430.0     Italian  331.0   \n",
       "4           4                         stork  1430.0     Italian  432.0   \n",
       "\n",
       "   height  mean_hue  mean_saturation  mean_brightness  \n",
       "0   399.0  0.094827         0.265359         0.860508  \n",
       "1   900.0  0.125429         0.467760         0.606830  \n",
       "2   452.0  0.000000         0.000000         0.796526  \n",
       "3   475.0  0.000000         0.000000         0.864136  \n",
       "4   475.0  0.110739         0.319730         0.809044  "
      ]
     },
     "execution_count": 5,
     "metadata": {},
     "output_type": "execute_result"
    }
   ],
   "source": [
<<<<<<< HEAD
    "df1 = pd.read_csv(\"../data/British_Italian_images.csv\")\n",
=======
    "df1 = pd.read_csv(\"/Users/sravyavoleti/Desktop/dsc160-midterm-group-3-master/data/British_Italian_images.csv\")\n",
>>>>>>> 951b6d07c73ac3b477234437159431e335808d96
    "df1.head()"
   ]
  },
  {
   "cell_type": "code",
<<<<<<< HEAD
   "execution_count": 6,
   "metadata": {},
   "outputs": [],
   "source": [
    "BIdf = pd.read_csv('../data/British_Italian_images.csv')\n",
    "RFdf = pd.read_csv('../data/russian_french_stats.csv')\n",
    "art = pd.concat([BIdf, RFdf], axis=0)\n",
    "art= art.reset_index(drop=True)\n",
    "art = art.drop(['Unnamed: 0'], axis=1)"
   ]
  },
  {
   "cell_type": "code",
   "execution_count": 4,
=======
   "execution_count": 7,
>>>>>>> 951b6d07c73ac3b477234437159431e335808d96
   "metadata": {
    "scrolled": true
   },
   "outputs": [],
   "source": [
    "df1 = df1.drop(['Unnamed: 0'], axis=1)"
   ]
  },
  {
   "cell_type": "code",
<<<<<<< HEAD
   "execution_count": 7,
   "metadata": {},
=======
   "execution_count": 9,
   "metadata": {
    "scrolled": true
   },
>>>>>>> 951b6d07c73ac3b477234437159431e335808d96
   "outputs": [
    {
     "data": {
      "text/html": [
       "<div>\n",
       "<style scoped>\n",
       "    .dataframe tbody tr th:only-of-type {\n",
       "        vertical-align: middle;\n",
       "    }\n",
       "\n",
       "    .dataframe tbody tr th {\n",
       "        vertical-align: top;\n",
       "    }\n",
       "\n",
       "    .dataframe thead th {\n",
       "        text-align: right;\n",
       "    }\n",
       "</style>\n",
       "<table border=\"1\" class=\"dataframe\">\n",
       "  <thead>\n",
       "    <tr style=\"text-align: right;\">\n",
       "      <th></th>\n",
       "      <th>name</th>\n",
       "      <th>year</th>\n",
       "      <th>nationality</th>\n",
       "      <th>width</th>\n",
       "      <th>height</th>\n",
       "      <th>mean_hue</th>\n",
       "      <th>mean_saturation</th>\n",
       "      <th>mean_brightness</th>\n",
       "    </tr>\n",
       "  </thead>\n",
       "  <tbody>\n",
       "    <tr>\n",
       "      <th>0</th>\n",
       "      <td>tzarina-natalia-alekseevna-1</td>\n",
       "      <td>NaN</td>\n",
       "      <td>Russian</td>\n",
       "      <td>550</td>\n",
       "      <td>689</td>\n",
       "      <td>0.213050</td>\n",
       "      <td>0.433988</td>\n",
       "      <td>0.237776</td>\n",
       "    </tr>\n",
       "    <tr>\n",
       "      <th>1</th>\n",
       "      <td>portrait-of-elizaveta-petrovna-as-a-child</td>\n",
       "      <td>1713.0</td>\n",
       "      <td>Russian</td>\n",
       "      <td>550</td>\n",
       "      <td>698</td>\n",
       "      <td>0.109722</td>\n",
       "      <td>0.433142</td>\n",
       "      <td>0.232679</td>\n",
       "    </tr>\n",
       "    <tr>\n",
       "      <th>2</th>\n",
       "      <td>tzarina-praskovia-ioanovna</td>\n",
       "      <td>1714.0</td>\n",
       "      <td>Russian</td>\n",
       "      <td>1400</td>\n",
       "      <td>1817</td>\n",
       "      <td>0.250579</td>\n",
       "      <td>0.296722</td>\n",
       "      <td>0.240346</td>\n",
       "    </tr>\n",
       "    <tr>\n",
       "      <th>3</th>\n",
       "      <td>peter-i</td>\n",
       "      <td>NaN</td>\n",
       "      <td>Russian</td>\n",
       "      <td>590</td>\n",
       "      <td>800</td>\n",
       "      <td>0.461972</td>\n",
       "      <td>0.368354</td>\n",
       "      <td>0.385637</td>\n",
       "    </tr>\n",
       "    <tr>\n",
       "      <th>4</th>\n",
       "      <td>peter-i</td>\n",
       "      <td>NaN</td>\n",
       "      <td>Russian</td>\n",
       "      <td>640</td>\n",
       "      <td>783</td>\n",
       "      <td>0.556476</td>\n",
       "      <td>0.444790</td>\n",
       "      <td>0.135088</td>\n",
       "    </tr>\n",
       "  </tbody>\n",
       "</table>\n",
       "</div>"
      ],
      "text/plain": [
       "                                        name    year nationality  width  \\\n",
       "0               tzarina-natalia-alekseevna-1     NaN     Russian    550   \n",
       "1  portrait-of-elizaveta-petrovna-as-a-child  1713.0     Russian    550   \n",
       "2                 tzarina-praskovia-ioanovna  1714.0     Russian   1400   \n",
       "3                                    peter-i     NaN     Russian    590   \n",
       "4                                    peter-i     NaN     Russian    640   \n",
       "\n",
       "   height  mean_hue  mean_saturation  mean_brightness  \n",
       "0     689  0.213050         0.433988         0.237776  \n",
       "1     698  0.109722         0.433142         0.232679  \n",
       "2    1817  0.250579         0.296722         0.240346  \n",
       "3     800  0.461972         0.368354         0.385637  \n",
       "4     783  0.556476         0.444790         0.135088  "
      ]
     },
<<<<<<< HEAD
     "execution_count": 7,
=======
     "execution_count": 9,
>>>>>>> 951b6d07c73ac3b477234437159431e335808d96
     "metadata": {},
     "output_type": "execute_result"
    }
   ],
   "source": [
<<<<<<< HEAD
    "df2 = pd.read_csv(\"../data/russian_french_stats.csv\")\n",
=======
    "df2 = pd.read_csv(\"/Users/sravyavoleti/Desktop/dsc160-midterm-group-3-master/data/russian_french_images.csv\")\n",
>>>>>>> 951b6d07c73ac3b477234437159431e335808d96
    "df2.head()\n"
   ]
  },
  {
   "cell_type": "code",
   "execution_count": 10,
   "metadata": {},
   "outputs": [
    {
     "name": "stdout",
     "output_type": "stream",
     "text": [
      "(4145, 8) (3634, 8)\n"
     ]
    }
   ],
   "source": [
    "print(df1.shape, df2.shape)"
   ]
  },
  {
   "cell_type": "code",
   "execution_count": 11,
   "metadata": {
    "scrolled": true
   },
   "outputs": [
    {
     "data": {
      "text/html": [
       "<div>\n",
       "<style scoped>\n",
       "    .dataframe tbody tr th:only-of-type {\n",
       "        vertical-align: middle;\n",
       "    }\n",
       "\n",
       "    .dataframe tbody tr th {\n",
       "        vertical-align: top;\n",
       "    }\n",
       "\n",
       "    .dataframe thead th {\n",
       "        text-align: right;\n",
       "    }\n",
       "</style>\n",
       "<table border=\"1\" class=\"dataframe\">\n",
       "  <thead>\n",
       "    <tr style=\"text-align: right;\">\n",
       "      <th></th>\n",
       "      <th>name</th>\n",
       "      <th>year</th>\n",
       "      <th>nationality</th>\n",
       "      <th>width</th>\n",
       "      <th>height</th>\n",
       "      <th>mean_hue</th>\n",
       "      <th>mean_saturation</th>\n",
       "      <th>mean_brightness</th>\n",
       "    </tr>\n",
       "  </thead>\n",
       "  <tbody>\n",
       "    <tr>\n",
       "      <th>0</th>\n",
       "      <td>the-luxury</td>\n",
       "      <td>1420.0</td>\n",
       "      <td>Italian</td>\n",
       "      <td>475.0</td>\n",
       "      <td>399.0</td>\n",
       "      <td>0.094827</td>\n",
       "      <td>0.265359</td>\n",
       "      <td>0.860508</td>\n",
       "    </tr>\n",
       "    <tr>\n",
       "      <th>1</th>\n",
       "      <td>madonna-and-quail</td>\n",
       "      <td>NaN</td>\n",
       "      <td>Italian</td>\n",
       "      <td>570.0</td>\n",
       "      <td>900.0</td>\n",
       "      <td>0.125429</td>\n",
       "      <td>0.467760</td>\n",
       "      <td>0.606830</td>\n",
       "    </tr>\n",
       "    <tr>\n",
       "      <th>2</th>\n",
       "      <td>apes</td>\n",
       "      <td>1430.0</td>\n",
       "      <td>Italian</td>\n",
       "      <td>475.0</td>\n",
       "      <td>452.0</td>\n",
       "      <td>0.000000</td>\n",
       "      <td>0.000000</td>\n",
       "      <td>0.796526</td>\n",
       "    </tr>\n",
       "    <tr>\n",
       "      <th>3</th>\n",
       "      <td>hanged-men-and-two-portraits</td>\n",
       "      <td>1430.0</td>\n",
       "      <td>Italian</td>\n",
       "      <td>331.0</td>\n",
       "      <td>475.0</td>\n",
       "      <td>0.000000</td>\n",
       "      <td>0.000000</td>\n",
       "      <td>0.864136</td>\n",
       "    </tr>\n",
       "    <tr>\n",
       "      <th>4</th>\n",
       "      <td>stork</td>\n",
       "      <td>1430.0</td>\n",
       "      <td>Italian</td>\n",
       "      <td>432.0</td>\n",
       "      <td>475.0</td>\n",
       "      <td>0.110739</td>\n",
       "      <td>0.319730</td>\n",
       "      <td>0.809044</td>\n",
       "    </tr>\n",
       "  </tbody>\n",
       "</table>\n",
       "</div>"
      ],
      "text/plain": [
       "                           name    year nationality  width  height  mean_hue  \\\n",
       "0                    the-luxury  1420.0     Italian  475.0   399.0  0.094827   \n",
       "1             madonna-and-quail     NaN     Italian  570.0   900.0  0.125429   \n",
       "2                          apes  1430.0     Italian  475.0   452.0  0.000000   \n",
       "3  hanged-men-and-two-portraits  1430.0     Italian  331.0   475.0  0.000000   \n",
       "4                         stork  1430.0     Italian  432.0   475.0  0.110739   \n",
       "\n",
       "   mean_saturation  mean_brightness  \n",
       "0         0.265359         0.860508  \n",
       "1         0.467760         0.606830  \n",
       "2         0.000000         0.796526  \n",
       "3         0.000000         0.864136  \n",
       "4         0.319730         0.809044  "
      ]
     },
     "execution_count": 11,
     "metadata": {},
     "output_type": "execute_result"
    }
   ],
   "source": [
    "art = pd.concat([df1, df2])\n",
    "art.head()"
   ]
  },
  {
   "cell_type": "code",
   "execution_count": 12,
   "metadata": {},
   "outputs": [],
   "source": [
    "import sklearn"
   ]
  },
  {
   "cell_type": "code",
   "execution_count": 13,
   "metadata": {},
   "outputs": [
    {
     "data": {
      "text/html": [
       "<div>\n",
       "<style scoped>\n",
       "    .dataframe tbody tr th:only-of-type {\n",
       "        vertical-align: middle;\n",
       "    }\n",
       "\n",
       "    .dataframe tbody tr th {\n",
       "        vertical-align: top;\n",
       "    }\n",
       "\n",
       "    .dataframe thead th {\n",
       "        text-align: right;\n",
       "    }\n",
       "</style>\n",
       "<table border=\"1\" class=\"dataframe\">\n",
       "  <thead>\n",
       "    <tr style=\"text-align: right;\">\n",
       "      <th></th>\n",
       "      <th>nationality</th>\n",
       "      <th>mean_hue</th>\n",
       "      <th>mean_saturation</th>\n",
       "      <th>mean_brightness</th>\n",
       "      <th>pixels</th>\n",
       "    </tr>\n",
       "  </thead>\n",
       "  <tbody>\n",
       "    <tr>\n",
       "      <th>0</th>\n",
       "      <td>Italian</td>\n",
       "      <td>0.094827</td>\n",
       "      <td>0.265359</td>\n",
       "      <td>0.860508</td>\n",
       "      <td>189525.0</td>\n",
       "    </tr>\n",
       "    <tr>\n",
       "      <th>1</th>\n",
       "      <td>Italian</td>\n",
       "      <td>0.125429</td>\n",
       "      <td>0.467760</td>\n",
       "      <td>0.606830</td>\n",
       "      <td>513000.0</td>\n",
       "    </tr>\n",
       "    <tr>\n",
       "      <th>2</th>\n",
       "      <td>Italian</td>\n",
       "      <td>0.000000</td>\n",
       "      <td>0.000000</td>\n",
       "      <td>0.796526</td>\n",
       "      <td>214700.0</td>\n",
       "    </tr>\n",
       "    <tr>\n",
       "      <th>3</th>\n",
       "      <td>Italian</td>\n",
       "      <td>0.000000</td>\n",
       "      <td>0.000000</td>\n",
       "      <td>0.864136</td>\n",
       "      <td>157225.0</td>\n",
       "    </tr>\n",
       "    <tr>\n",
       "      <th>4</th>\n",
       "      <td>Italian</td>\n",
       "      <td>0.110739</td>\n",
       "      <td>0.319730</td>\n",
       "      <td>0.809044</td>\n",
       "      <td>205200.0</td>\n",
       "    </tr>\n",
       "  </tbody>\n",
       "</table>\n",
       "</div>"
      ],
      "text/plain": [
       "  nationality  mean_hue  mean_saturation  mean_brightness    pixels\n",
       "0     Italian  0.094827         0.265359         0.860508  189525.0\n",
       "1     Italian  0.125429         0.467760         0.606830  513000.0\n",
       "2     Italian  0.000000         0.000000         0.796526  214700.0\n",
       "3     Italian  0.000000         0.000000         0.864136  157225.0\n",
       "4     Italian  0.110739         0.319730         0.809044  205200.0"
      ]
     },
     "execution_count": 13,
     "metadata": {},
     "output_type": "execute_result"
    }
   ],
   "source": [
    "art['pixels'] = art['width'] * art['height']\n",
    "art = art.drop(['name', 'year', 'width', 'height'], axis=1)\n",
    "art.head()"
   ]
  },
  {
   "cell_type": "code",
   "execution_count": 14,
   "metadata": {},
   "outputs": [],
   "source": [
    "X = art.iloc[:, 1:5].values\n",
    "y = art.iloc[:, :1].values "
   ]
  },
  {
   "cell_type": "code",
   "execution_count": 15,
   "metadata": {},
   "outputs": [],
   "source": [
    "from sklearn.model_selection import train_test_split\n",
    "X_train, X_test, y_train, y_test = train_test_split(X, y, test_size=0.20)"
   ]
  },
  {
   "cell_type": "code",
   "execution_count": 16,
   "metadata": {
    "scrolled": true
   },
   "outputs": [],
   "source": [
    "from sklearn.preprocessing import StandardScaler\n",
    "scaler = StandardScaler()\n",
    "scaler.fit(X_train)\n",
    "\n",
    "X_train = scaler.transform(X_train)\n",
    "X_test = scaler.transform(X_test)"
   ]
  },
  {
   "cell_type": "markdown",
   "metadata": {},
   "source": [
    "## Running the KNN Classifier "
   ]
  },
  {
   "cell_type": "code",
   "execution_count": 17,
   "metadata": {},
   "outputs": [
    {
     "name": "stderr",
     "output_type": "stream",
     "text": [
      "//anaconda3/lib/python3.7/site-packages/ipykernel_launcher.py:3: DataConversionWarning: A column-vector y was passed when a 1d array was expected. Please change the shape of y to (n_samples, ), for example using ravel().\n",
      "  This is separate from the ipykernel package so we can avoid doing imports until\n"
     ]
    },
    {
     "data": {
      "text/plain": [
       "KNeighborsClassifier(algorithm='auto', leaf_size=30, metric='minkowski',\n",
       "                     metric_params=None, n_jobs=None, n_neighbors=5, p=2,\n",
       "                     weights='uniform')"
      ]
     },
     "execution_count": 17,
     "metadata": {},
     "output_type": "execute_result"
    }
   ],
   "source": [
    "from sklearn.neighbors import KNeighborsClassifier\n",
    "classifier = KNeighborsClassifier(n_neighbors=5)\n",
    "classifier.fit(X_train, y_train)"
   ]
  },
  {
   "cell_type": "code",
   "execution_count": 18,
   "metadata": {},
   "outputs": [],
   "source": [
    "y_pred = classifier.predict(X_test)"
   ]
  },
  {
   "cell_type": "code",
   "execution_count": 20,
   "metadata": {},
   "outputs": [
    {
     "name": "stdout",
     "output_type": "stream",
     "text": [
      "[[576  59  18  52]\n",
      " [125 187   4  44]\n",
      " [ 82  24  18  17]\n",
      " [140  51  12 147]]\n",
      "              precision    recall  f1-score   support\n",
      "\n",
      "     British       0.62      0.82      0.71       705\n",
      "      French       0.58      0.52      0.55       360\n",
      "     Italian       0.35      0.13      0.19       141\n",
      "     Russian       0.57      0.42      0.48       350\n",
      "\n",
      "    accuracy                           0.60      1556\n",
      "   macro avg       0.53      0.47      0.48      1556\n",
      "weighted avg       0.58      0.60      0.57      1556\n",
      "\n"
     ]
    }
   ],
   "source": [
    "from sklearn.metrics import classification_report, confusion_matrix\n",
    "print(confusion_matrix(y_test, y_pred))\n",
    "print(classification_report(y_test, y_pred))"
   ]
  },
  {
   "cell_type": "code",
   "execution_count": 22,
   "metadata": {},
   "outputs": [],
   "source": [
    "from sklearn.metrics import accuracy_score"
   ]
  },
  {
   "cell_type": "code",
   "execution_count": 23,
   "metadata": {},
   "outputs": [
    {
     "data": {
      "text/plain": [
       "0.596401028277635"
      ]
     },
     "execution_count": 23,
     "metadata": {},
     "output_type": "execute_result"
    }
   ],
   "source": [
    "### Accuracy Score using KNN Classifier \n",
    "acc = accuracy_score(y_test, y_pred)\n",
    "acc"
   ]
  },
  {
   "cell_type": "code",
   "execution_count": 35,
   "metadata": {
    "collapsed": true
   },
   "outputs": [
    {
     "name": "stderr",
     "output_type": "stream",
     "text": [
      "//anaconda3/lib/python3.7/site-packages/ipykernel_launcher.py:6: DataConversionWarning: A column-vector y was passed when a 1d array was expected. Please change the shape of y to (n_samples, ), for example using ravel().\n",
      "  \n",
      "//anaconda3/lib/python3.7/site-packages/ipykernel_launcher.py:6: DataConversionWarning: A column-vector y was passed when a 1d array was expected. Please change the shape of y to (n_samples, ), for example using ravel().\n",
      "  \n",
      "//anaconda3/lib/python3.7/site-packages/ipykernel_launcher.py:6: DataConversionWarning: A column-vector y was passed when a 1d array was expected. Please change the shape of y to (n_samples, ), for example using ravel().\n",
      "  \n",
      "//anaconda3/lib/python3.7/site-packages/ipykernel_launcher.py:6: DataConversionWarning: A column-vector y was passed when a 1d array was expected. Please change the shape of y to (n_samples, ), for example using ravel().\n",
      "  \n",
      "//anaconda3/lib/python3.7/site-packages/ipykernel_launcher.py:6: DataConversionWarning: A column-vector y was passed when a 1d array was expected. Please change the shape of y to (n_samples, ), for example using ravel().\n",
      "  \n",
      "//anaconda3/lib/python3.7/site-packages/ipykernel_launcher.py:6: DataConversionWarning: A column-vector y was passed when a 1d array was expected. Please change the shape of y to (n_samples, ), for example using ravel().\n",
      "  \n",
      "//anaconda3/lib/python3.7/site-packages/ipykernel_launcher.py:6: DataConversionWarning: A column-vector y was passed when a 1d array was expected. Please change the shape of y to (n_samples, ), for example using ravel().\n",
      "  \n",
      "//anaconda3/lib/python3.7/site-packages/ipykernel_launcher.py:6: DataConversionWarning: A column-vector y was passed when a 1d array was expected. Please change the shape of y to (n_samples, ), for example using ravel().\n",
      "  \n",
      "//anaconda3/lib/python3.7/site-packages/ipykernel_launcher.py:6: DataConversionWarning: A column-vector y was passed when a 1d array was expected. Please change the shape of y to (n_samples, ), for example using ravel().\n",
      "  \n",
      "//anaconda3/lib/python3.7/site-packages/ipykernel_launcher.py:6: DataConversionWarning: A column-vector y was passed when a 1d array was expected. Please change the shape of y to (n_samples, ), for example using ravel().\n",
      "  \n",
      "//anaconda3/lib/python3.7/site-packages/ipykernel_launcher.py:6: DataConversionWarning: A column-vector y was passed when a 1d array was expected. Please change the shape of y to (n_samples, ), for example using ravel().\n",
      "  \n",
      "//anaconda3/lib/python3.7/site-packages/ipykernel_launcher.py:6: DataConversionWarning: A column-vector y was passed when a 1d array was expected. Please change the shape of y to (n_samples, ), for example using ravel().\n",
      "  \n",
      "//anaconda3/lib/python3.7/site-packages/ipykernel_launcher.py:6: DataConversionWarning: A column-vector y was passed when a 1d array was expected. Please change the shape of y to (n_samples, ), for example using ravel().\n",
      "  \n",
      "//anaconda3/lib/python3.7/site-packages/ipykernel_launcher.py:6: DataConversionWarning: A column-vector y was passed when a 1d array was expected. Please change the shape of y to (n_samples, ), for example using ravel().\n",
      "  \n",
      "//anaconda3/lib/python3.7/site-packages/ipykernel_launcher.py:6: DataConversionWarning: A column-vector y was passed when a 1d array was expected. Please change the shape of y to (n_samples, ), for example using ravel().\n",
      "  \n",
      "//anaconda3/lib/python3.7/site-packages/ipykernel_launcher.py:6: DataConversionWarning: A column-vector y was passed when a 1d array was expected. Please change the shape of y to (n_samples, ), for example using ravel().\n",
      "  \n",
      "//anaconda3/lib/python3.7/site-packages/ipykernel_launcher.py:6: DataConversionWarning: A column-vector y was passed when a 1d array was expected. Please change the shape of y to (n_samples, ), for example using ravel().\n",
      "  \n",
      "//anaconda3/lib/python3.7/site-packages/ipykernel_launcher.py:6: DataConversionWarning: A column-vector y was passed when a 1d array was expected. Please change the shape of y to (n_samples, ), for example using ravel().\n",
      "  \n",
      "//anaconda3/lib/python3.7/site-packages/ipykernel_launcher.py:6: DataConversionWarning: A column-vector y was passed when a 1d array was expected. Please change the shape of y to (n_samples, ), for example using ravel().\n",
      "  \n",
      "//anaconda3/lib/python3.7/site-packages/ipykernel_launcher.py:6: DataConversionWarning: A column-vector y was passed when a 1d array was expected. Please change the shape of y to (n_samples, ), for example using ravel().\n",
      "  \n",
      "//anaconda3/lib/python3.7/site-packages/ipykernel_launcher.py:6: DataConversionWarning: A column-vector y was passed when a 1d array was expected. Please change the shape of y to (n_samples, ), for example using ravel().\n",
      "  \n",
      "//anaconda3/lib/python3.7/site-packages/ipykernel_launcher.py:6: DataConversionWarning: A column-vector y was passed when a 1d array was expected. Please change the shape of y to (n_samples, ), for example using ravel().\n",
      "  \n",
      "//anaconda3/lib/python3.7/site-packages/ipykernel_launcher.py:6: DataConversionWarning: A column-vector y was passed when a 1d array was expected. Please change the shape of y to (n_samples, ), for example using ravel().\n",
      "  \n",
      "//anaconda3/lib/python3.7/site-packages/ipykernel_launcher.py:6: DataConversionWarning: A column-vector y was passed when a 1d array was expected. Please change the shape of y to (n_samples, ), for example using ravel().\n",
      "  \n",
      "//anaconda3/lib/python3.7/site-packages/ipykernel_launcher.py:6: DataConversionWarning: A column-vector y was passed when a 1d array was expected. Please change the shape of y to (n_samples, ), for example using ravel().\n",
      "  \n",
      "//anaconda3/lib/python3.7/site-packages/ipykernel_launcher.py:6: DataConversionWarning: A column-vector y was passed when a 1d array was expected. Please change the shape of y to (n_samples, ), for example using ravel().\n",
      "  \n",
      "//anaconda3/lib/python3.7/site-packages/ipykernel_launcher.py:6: DataConversionWarning: A column-vector y was passed when a 1d array was expected. Please change the shape of y to (n_samples, ), for example using ravel().\n",
      "  \n",
      "//anaconda3/lib/python3.7/site-packages/ipykernel_launcher.py:6: DataConversionWarning: A column-vector y was passed when a 1d array was expected. Please change the shape of y to (n_samples, ), for example using ravel().\n",
      "  \n",
      "//anaconda3/lib/python3.7/site-packages/ipykernel_launcher.py:6: DataConversionWarning: A column-vector y was passed when a 1d array was expected. Please change the shape of y to (n_samples, ), for example using ravel().\n",
      "  \n",
      "//anaconda3/lib/python3.7/site-packages/ipykernel_launcher.py:6: DataConversionWarning: A column-vector y was passed when a 1d array was expected. Please change the shape of y to (n_samples, ), for example using ravel().\n",
      "  \n",
      "//anaconda3/lib/python3.7/site-packages/ipykernel_launcher.py:6: DataConversionWarning: A column-vector y was passed when a 1d array was expected. Please change the shape of y to (n_samples, ), for example using ravel().\n",
      "  \n",
      "//anaconda3/lib/python3.7/site-packages/ipykernel_launcher.py:6: DataConversionWarning: A column-vector y was passed when a 1d array was expected. Please change the shape of y to (n_samples, ), for example using ravel().\n",
      "  \n",
      "//anaconda3/lib/python3.7/site-packages/ipykernel_launcher.py:6: DataConversionWarning: A column-vector y was passed when a 1d array was expected. Please change the shape of y to (n_samples, ), for example using ravel().\n",
      "  \n",
      "//anaconda3/lib/python3.7/site-packages/ipykernel_launcher.py:6: DataConversionWarning: A column-vector y was passed when a 1d array was expected. Please change the shape of y to (n_samples, ), for example using ravel().\n",
      "  \n",
      "//anaconda3/lib/python3.7/site-packages/ipykernel_launcher.py:6: DataConversionWarning: A column-vector y was passed when a 1d array was expected. Please change the shape of y to (n_samples, ), for example using ravel().\n",
      "  \n",
      "//anaconda3/lib/python3.7/site-packages/ipykernel_launcher.py:6: DataConversionWarning: A column-vector y was passed when a 1d array was expected. Please change the shape of y to (n_samples, ), for example using ravel().\n",
      "  \n",
      "//anaconda3/lib/python3.7/site-packages/ipykernel_launcher.py:6: DataConversionWarning: A column-vector y was passed when a 1d array was expected. Please change the shape of y to (n_samples, ), for example using ravel().\n",
      "  \n"
     ]
    },
    {
     "name": "stderr",
     "output_type": "stream",
     "text": [
      "//anaconda3/lib/python3.7/site-packages/ipykernel_launcher.py:6: DataConversionWarning: A column-vector y was passed when a 1d array was expected. Please change the shape of y to (n_samples, ), for example using ravel().\n",
      "  \n",
      "//anaconda3/lib/python3.7/site-packages/ipykernel_launcher.py:6: DataConversionWarning: A column-vector y was passed when a 1d array was expected. Please change the shape of y to (n_samples, ), for example using ravel().\n",
      "  \n"
     ]
    }
   ],
   "source": [
    "error = []\n",
    "\n",
    "# Calculating error for K values between 1 and 40\n",
    "for i in range(1, 40):\n",
    "    knn = KNeighborsClassifier(n_neighbors=i)\n",
    "    knn.fit(X_train, y_train)\n",
    "    pred_i = knn.predict(X_test)\n",
    "    error.append(np.mean(pred_i != y_test))"
   ]
  },
  {
   "cell_type": "code",
   "execution_count": 36,
   "metadata": {
    "scrolled": false
   },
   "outputs": [
    {
     "data": {
      "text/plain": [
       "Text(0, 0.5, 'Mean Error')"
      ]
     },
     "execution_count": 36,
     "metadata": {},
     "output_type": "execute_result"
    },
    {
     "data": {
      "image/png": "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\n",
      "text/plain": [
       "<Figure size 864x432 with 1 Axes>"
      ]
     },
     "metadata": {
      "needs_background": "light"
     },
     "output_type": "display_data"
    }
   ],
   "source": [
    "plt.figure(figsize=(12, 6))\n",
    "plt.plot(range(1, 40), error, color='red', linestyle='dashed', marker='o',\n",
    "         markerfacecolor='blue', markersize=10)\n",
    "plt.title('Error Rate K Value')\n",
    "plt.xlabel('K Value')\n",
    "plt.ylabel('Mean Error')"
   ]
  },
  {
   "cell_type": "markdown",
   "metadata": {},
   "source": [
    "## extracting only a couple features"
   ]
  },
  {
   "cell_type": "markdown",
   "metadata": {},
   "source": [
    "###### only using mean saturation and mean brightness"
   ]
  },
  {
   "cell_type": "code",
   "execution_count": 37,
   "metadata": {},
   "outputs": [
    {
     "data": {
      "text/html": [
       "<div>\n",
       "<style scoped>\n",
       "    .dataframe tbody tr th:only-of-type {\n",
       "        vertical-align: middle;\n",
       "    }\n",
       "\n",
       "    .dataframe tbody tr th {\n",
       "        vertical-align: top;\n",
       "    }\n",
       "\n",
       "    .dataframe thead th {\n",
       "        text-align: right;\n",
       "    }\n",
       "</style>\n",
       "<table border=\"1\" class=\"dataframe\">\n",
       "  <thead>\n",
       "    <tr style=\"text-align: right;\">\n",
       "      <th></th>\n",
       "      <th>nationality</th>\n",
       "      <th>mean_hue</th>\n",
       "      <th>mean_saturation</th>\n",
       "      <th>mean_brightness</th>\n",
       "      <th>pixels</th>\n",
       "    </tr>\n",
       "  </thead>\n",
       "  <tbody>\n",
       "    <tr>\n",
       "      <th>0</th>\n",
       "      <td>Italian</td>\n",
       "      <td>0.094827</td>\n",
       "      <td>0.265359</td>\n",
       "      <td>0.860508</td>\n",
       "      <td>189525.0</td>\n",
       "    </tr>\n",
       "    <tr>\n",
       "      <th>1</th>\n",
       "      <td>Italian</td>\n",
       "      <td>0.125429</td>\n",
       "      <td>0.467760</td>\n",
       "      <td>0.606830</td>\n",
       "      <td>513000.0</td>\n",
       "    </tr>\n",
       "    <tr>\n",
       "      <th>2</th>\n",
       "      <td>Italian</td>\n",
       "      <td>0.000000</td>\n",
       "      <td>0.000000</td>\n",
       "      <td>0.796526</td>\n",
       "      <td>214700.0</td>\n",
       "    </tr>\n",
       "    <tr>\n",
       "      <th>3</th>\n",
       "      <td>Italian</td>\n",
       "      <td>0.000000</td>\n",
       "      <td>0.000000</td>\n",
       "      <td>0.864136</td>\n",
       "      <td>157225.0</td>\n",
       "    </tr>\n",
       "    <tr>\n",
       "      <th>4</th>\n",
       "      <td>Italian</td>\n",
       "      <td>0.110739</td>\n",
       "      <td>0.319730</td>\n",
       "      <td>0.809044</td>\n",
       "      <td>205200.0</td>\n",
       "    </tr>\n",
       "  </tbody>\n",
       "</table>\n",
       "</div>"
      ],
      "text/plain": [
       "  nationality  mean_hue  mean_saturation  mean_brightness    pixels\n",
       "0     Italian  0.094827         0.265359         0.860508  189525.0\n",
       "1     Italian  0.125429         0.467760         0.606830  513000.0\n",
       "2     Italian  0.000000         0.000000         0.796526  214700.0\n",
       "3     Italian  0.000000         0.000000         0.864136  157225.0\n",
       "4     Italian  0.110739         0.319730         0.809044  205200.0"
      ]
     },
     "execution_count": 37,
     "metadata": {},
     "output_type": "execute_result"
    }
   ],
   "source": [
    "art.head()"
   ]
  },
  {
   "cell_type": "code",
   "execution_count": 38,
   "metadata": {},
   "outputs": [],
   "source": [
    "X = art.iloc[:, 2:4].values\n",
    "y = art.iloc[:, :1].values "
   ]
  },
  {
   "cell_type": "code",
   "execution_count": 39,
   "metadata": {},
   "outputs": [],
   "source": [
    "from sklearn.model_selection import train_test_split\n",
    "X_train, X_test, y_train, y_test = train_test_split(X, y, test_size=0.20)"
   ]
  },
  {
   "cell_type": "code",
   "execution_count": 40,
   "metadata": {},
   "outputs": [],
   "source": [
    "from sklearn.preprocessing import StandardScaler\n",
    "scaler = StandardScaler()\n",
    "scaler.fit(X_train)\n",
    "\n",
    "X_train = scaler.transform(X_train)\n",
    "X_test = scaler.transform(X_test)"
   ]
  },
  {
   "cell_type": "code",
   "execution_count": 41,
   "metadata": {},
   "outputs": [
    {
     "name": "stderr",
     "output_type": "stream",
     "text": [
      "//anaconda3/lib/python3.7/site-packages/ipykernel_launcher.py:3: DataConversionWarning: A column-vector y was passed when a 1d array was expected. Please change the shape of y to (n_samples, ), for example using ravel().\n",
      "  This is separate from the ipykernel package so we can avoid doing imports until\n"
     ]
    },
    {
     "data": {
      "text/plain": [
       "KNeighborsClassifier(algorithm='auto', leaf_size=30, metric='minkowski',\n",
       "                     metric_params=None, n_jobs=None, n_neighbors=5, p=2,\n",
       "                     weights='uniform')"
      ]
     },
     "execution_count": 41,
     "metadata": {},
     "output_type": "execute_result"
    }
   ],
   "source": [
    "from sklearn.neighbors import KNeighborsClassifier\n",
    "classifier = KNeighborsClassifier(n_neighbors=5)\n",
    "classifier.fit(X_train, y_train)"
   ]
  },
  {
   "cell_type": "code",
   "execution_count": 42,
   "metadata": {},
   "outputs": [],
   "source": [
    "y_pred = classifier.predict(X_test)"
   ]
  },
  {
   "cell_type": "code",
   "execution_count": 43,
   "metadata": {},
   "outputs": [
    {
     "name": "stdout",
     "output_type": "stream",
     "text": [
      "[[516  91  20  75]\n",
      " [141 177  18  53]\n",
      " [ 87  17   9   8]\n",
      " [156  62   9 117]]\n",
      "              precision    recall  f1-score   support\n",
      "\n",
      "     British       0.57      0.74      0.64       702\n",
      "      French       0.51      0.46      0.48       389\n",
      "     Italian       0.16      0.07      0.10       121\n",
      "     Russian       0.46      0.34      0.39       344\n",
      "\n",
      "    accuracy                           0.53      1556\n",
      "   macro avg       0.43      0.40      0.40      1556\n",
      "weighted avg       0.50      0.53      0.51      1556\n",
      "\n"
     ]
    }
   ],
   "source": [
    "from sklearn.metrics import classification_report, confusion_matrix\n",
    "print(confusion_matrix(y_test, y_pred))\n",
    "print(classification_report(y_test, y_pred))"
   ]
  },
  {
   "cell_type": "code",
   "execution_count": 44,
   "metadata": {},
   "outputs": [],
   "source": [
    "from sklearn.metrics import accuracy_score"
   ]
  },
  {
   "cell_type": "code",
   "execution_count": 45,
   "metadata": {},
   "outputs": [
    {
     "data": {
      "text/plain": [
       "0.5263496143958869"
      ]
     },
     "execution_count": 45,
     "metadata": {},
     "output_type": "execute_result"
    }
   ],
   "source": [
    "## Accuracy Score of KNN Classifier \n",
    "acc = accuracy_score(y_test, y_pred)\n",
    "acc"
   ]
  },
  {
   "cell_type": "markdown",
   "metadata": {},
   "source": [
    "###### lowering number of features to the saturation and brightness lowers the accuracy score"
   ]
  },
  {
   "cell_type": "code",
   "execution_count": 46,
   "metadata": {},
   "outputs": [
    {
     "data": {
      "text/html": [
       "<div>\n",
       "<style scoped>\n",
       "    .dataframe tbody tr th:only-of-type {\n",
       "        vertical-align: middle;\n",
       "    }\n",
       "\n",
       "    .dataframe tbody tr th {\n",
       "        vertical-align: top;\n",
       "    }\n",
       "\n",
       "    .dataframe thead th {\n",
       "        text-align: right;\n",
       "    }\n",
       "</style>\n",
       "<table border=\"1\" class=\"dataframe\">\n",
       "  <thead>\n",
       "    <tr style=\"text-align: right;\">\n",
       "      <th></th>\n",
       "      <th>nationality</th>\n",
       "      <th>mean_hue</th>\n",
       "      <th>mean_saturation</th>\n",
       "      <th>mean_brightness</th>\n",
       "      <th>pixels</th>\n",
       "    </tr>\n",
       "  </thead>\n",
       "  <tbody>\n",
       "    <tr>\n",
       "      <th>0</th>\n",
       "      <td>Italian</td>\n",
       "      <td>0.094827</td>\n",
       "      <td>0.265359</td>\n",
       "      <td>0.860508</td>\n",
       "      <td>189525.0</td>\n",
       "    </tr>\n",
       "    <tr>\n",
       "      <th>1</th>\n",
       "      <td>Italian</td>\n",
       "      <td>0.125429</td>\n",
       "      <td>0.467760</td>\n",
       "      <td>0.606830</td>\n",
       "      <td>513000.0</td>\n",
       "    </tr>\n",
       "    <tr>\n",
       "      <th>2</th>\n",
       "      <td>Italian</td>\n",
       "      <td>0.000000</td>\n",
       "      <td>0.000000</td>\n",
       "      <td>0.796526</td>\n",
       "      <td>214700.0</td>\n",
       "    </tr>\n",
       "    <tr>\n",
       "      <th>3</th>\n",
       "      <td>Italian</td>\n",
       "      <td>0.000000</td>\n",
       "      <td>0.000000</td>\n",
       "      <td>0.864136</td>\n",
       "      <td>157225.0</td>\n",
       "    </tr>\n",
       "    <tr>\n",
       "      <th>4</th>\n",
       "      <td>Italian</td>\n",
       "      <td>0.110739</td>\n",
       "      <td>0.319730</td>\n",
       "      <td>0.809044</td>\n",
       "      <td>205200.0</td>\n",
       "    </tr>\n",
       "  </tbody>\n",
       "</table>\n",
       "</div>"
      ],
      "text/plain": [
       "  nationality  mean_hue  mean_saturation  mean_brightness    pixels\n",
       "0     Italian  0.094827         0.265359         0.860508  189525.0\n",
       "1     Italian  0.125429         0.467760         0.606830  513000.0\n",
       "2     Italian  0.000000         0.000000         0.796526  214700.0\n",
       "3     Italian  0.000000         0.000000         0.864136  157225.0\n",
       "4     Italian  0.110739         0.319730         0.809044  205200.0"
      ]
     },
     "execution_count": 46,
     "metadata": {},
     "output_type": "execute_result"
    }
   ],
   "source": [
    "art.head()"
   ]
  },
  {
   "cell_type": "markdown",
   "metadata": {},
   "source": [
    "##### now using only mean hue, mean saturation, and meaan brightness"
   ]
  },
  {
   "cell_type": "code",
   "execution_count": 47,
   "metadata": {},
   "outputs": [],
   "source": [
    "X = art.iloc[:, 1:4].values\n",
    "y = art.iloc[:, :1].values "
   ]
  },
  {
   "cell_type": "code",
   "execution_count": 48,
   "metadata": {},
   "outputs": [],
   "source": [
    "from sklearn.model_selection import train_test_split\n",
    "X_train, X_test, y_train, y_test = train_test_split(X, y, test_size=0.20)"
   ]
  },
  {
   "cell_type": "code",
   "execution_count": 49,
   "metadata": {},
   "outputs": [],
   "source": [
    "from sklearn.preprocessing import StandardScaler\n",
    "scaler = StandardScaler()\n",
    "scaler.fit(X_train)\n",
    "\n",
    "X_train = scaler.transform(X_train)\n",
    "X_test = scaler.transform(X_test)"
   ]
  },
  {
   "cell_type": "code",
   "execution_count": 50,
   "metadata": {},
   "outputs": [
    {
     "name": "stderr",
     "output_type": "stream",
     "text": [
      "//anaconda3/lib/python3.7/site-packages/ipykernel_launcher.py:3: DataConversionWarning: A column-vector y was passed when a 1d array was expected. Please change the shape of y to (n_samples, ), for example using ravel().\n",
      "  This is separate from the ipykernel package so we can avoid doing imports until\n"
     ]
    },
    {
     "data": {
      "text/plain": [
       "KNeighborsClassifier(algorithm='auto', leaf_size=30, metric='minkowski',\n",
       "                     metric_params=None, n_jobs=None, n_neighbors=5, p=2,\n",
       "                     weights='uniform')"
      ]
     },
     "execution_count": 50,
     "metadata": {},
     "output_type": "execute_result"
    }
   ],
   "source": [
    "from sklearn.neighbors import KNeighborsClassifier\n",
    "classifier = KNeighborsClassifier(n_neighbors=5)\n",
    "classifier.fit(X_train, y_train)"
   ]
  },
  {
   "cell_type": "code",
   "execution_count": 51,
   "metadata": {},
   "outputs": [],
   "source": [
    "y_pred = classifier.predict(X_test)"
   ]
  },
  {
   "cell_type": "code",
   "execution_count": 52,
   "metadata": {},
   "outputs": [
    {
     "name": "stdout",
     "output_type": "stream",
     "text": [
      "[[531  91  25  69]\n",
      " [139 174   9  39]\n",
      " [ 88  24  12  14]\n",
      " [149  82   8 102]]\n",
      "              precision    recall  f1-score   support\n",
      "\n",
      "     British       0.59      0.74      0.65       716\n",
      "      French       0.47      0.48      0.48       361\n",
      "     Italian       0.22      0.09      0.12       138\n",
      "     Russian       0.46      0.30      0.36       341\n",
      "\n",
      "    accuracy                           0.53      1556\n",
      "   macro avg       0.43      0.40      0.40      1556\n",
      "weighted avg       0.50      0.53      0.50      1556\n",
      "\n"
     ]
    }
   ],
   "source": [
    "from sklearn.metrics import classification_report, confusion_matrix\n",
    "print(confusion_matrix(y_test, y_pred))\n",
    "print(classification_report(y_test, y_pred))"
   ]
  },
  {
   "cell_type": "code",
   "execution_count": 53,
   "metadata": {},
   "outputs": [],
   "source": [
    "from sklearn.metrics import accuracy_score"
   ]
  },
  {
   "cell_type": "code",
   "execution_count": 54,
   "metadata": {},
   "outputs": [
    {
     "data": {
      "text/plain": [
       "0.5263496143958869"
      ]
     },
     "execution_count": 54,
     "metadata": {},
     "output_type": "execute_result"
    }
   ],
   "source": [
    "acc = accuracy_score(y_test, y_pred)\n",
    "acc"
   ]
  },
  {
   "cell_type": "markdown",
   "metadata": {},
   "source": [
    "##### using the three features of hue, saturation, and brightness makes the accuracy slightly higher"
   ]
  },
  {
   "cell_type": "markdown",
   "metadata": {},
   "source": [
    "## Running the SVC Classifier"
   ]
  },
  {
   "cell_type": "code",
   "execution_count": 55,
   "metadata": {},
   "outputs": [
    {
     "name": "stderr",
     "output_type": "stream",
     "text": [
      "//anaconda3/lib/python3.7/site-packages/sklearn/utils/validation.py:724: DataConversionWarning: A column-vector y was passed when a 1d array was expected. Please change the shape of y to (n_samples, ), for example using ravel().\n",
      "  y = column_or_1d(y, warn=True)\n"
     ]
    },
    {
     "data": {
      "text/plain": [
       "SVC(C=1.0, cache_size=200, class_weight=None, coef0=0.0,\n",
       "    decision_function_shape='ovr', degree=3, gamma='auto', kernel='rbf',\n",
       "    max_iter=-1, probability=False, random_state=None, shrinking=True,\n",
       "    tol=0.001, verbose=False)"
      ]
     },
     "execution_count": 55,
     "metadata": {},
     "output_type": "execute_result"
    }
   ],
   "source": [
    "from sklearn.svm import SVC\n",
    "classifier2 = SVC(gamma='auto')\n",
    "classifier2.fit(X_train, y_train)"
   ]
  },
  {
   "cell_type": "code",
   "execution_count": 56,
   "metadata": {},
   "outputs": [],
   "source": [
    "y_pred2 = classifier2.predict(X_test)"
   ]
  },
  {
   "cell_type": "code",
   "execution_count": 57,
   "metadata": {},
   "outputs": [
    {
     "name": "stdout",
     "output_type": "stream",
     "text": [
      "[[687  20   0   9]\n",
      " [278  57   0  26]\n",
      " [116  11   0  11]\n",
      " [274  20   0  47]]\n",
      "              precision    recall  f1-score   support\n",
      "\n",
      "     British       0.51      0.96      0.66       716\n",
      "      French       0.53      0.16      0.24       361\n",
      "     Italian       0.00      0.00      0.00       138\n",
      "     Russian       0.51      0.14      0.22       341\n",
      "\n",
      "    accuracy                           0.51      1556\n",
      "   macro avg       0.39      0.31      0.28      1556\n",
      "weighted avg       0.47      0.51      0.41      1556\n",
      "\n"
     ]
    },
    {
     "name": "stderr",
     "output_type": "stream",
     "text": [
      "//anaconda3/lib/python3.7/site-packages/sklearn/metrics/classification.py:1437: UndefinedMetricWarning: Precision and F-score are ill-defined and being set to 0.0 in labels with no predicted samples.\n",
      "  'precision', 'predicted', average, warn_for)\n"
     ]
    }
   ],
   "source": [
    "from sklearn.metrics import classification_report, confusion_matrix\n",
    "print(confusion_matrix(y_test, y_pred2))\n",
    "print(classification_report(y_test, y_pred2))"
   ]
  },
  {
   "cell_type": "code",
   "execution_count": 58,
   "metadata": {},
   "outputs": [
    {
     "data": {
      "text/plain": [
       "0.5083547557840618"
      ]
     },
     "execution_count": 58,
     "metadata": {},
     "output_type": "execute_result"
    }
   ],
   "source": [
    "#### Accuracy Score using SVC Classifier\n",
    "acc2 = accuracy_score(y_test, y_pred2)\n",
    "acc2"
   ]
  },
  {
   "cell_type": "code",
   "execution_count": null,
   "metadata": {},
   "outputs": [],
   "source": [
    "### Accuracy Score using KNN Classifier \n",
    "acc = accuracy_score(y_test, y_pred)\n",
    "acc"
   ]
  },
  {
   "cell_type": "markdown",
   "metadata": {},
   "source": [
    "###### both the KNN and SVM classifiers return a similar accuracy score, with the KNN classifier a slightly better score. "
   ]
  },
  {
   "cell_type": "code",
   "execution_count": null,
   "metadata": {},
   "outputs": [],
   "source": []
  }
 ],
 "metadata": {
  "kernelspec": {
   "display_name": "Python 3",
   "language": "python",
   "name": "python3"
  },
  "language_info": {
   "codemirror_mode": {
    "name": "ipython",
    "version": 3
   },
   "file_extension": ".py",
   "mimetype": "text/x-python",
   "name": "python",
   "nbconvert_exporter": "python",
   "pygments_lexer": "ipython3",
   "version": "3.7.3"
  }
 },
 "nbformat": 4,
 "nbformat_minor": 2
}
