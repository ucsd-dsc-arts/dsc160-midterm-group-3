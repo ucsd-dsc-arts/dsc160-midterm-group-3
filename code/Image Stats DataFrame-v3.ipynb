{
 "cells": [
  {
   "cell_type": "code",
   "execution_count": 2,
   "metadata": {},
   "outputs": [],
   "source": [
    "import scipy.misc\n",
    "from skimage import io\n",
    "from skimage.color import rgb2hsv\n",
    "import skimage\n",
    "import matplotlib.pyplot as plt\n",
    "import numpy as np\n",
    "%matplotlib inline\n",
    "import pandas as pd\n",
    "import os"
   ]
  },
  {
   "cell_type": "markdown",
   "metadata": {},
   "source": [
    "### Statistics Collection for Russian Images\n",
    "- data includes images that are capable of providing specific statistics\n",
    "- images unable to provide statistics are stored in separate list"
   ]
  },
  {
   "cell_type": "code",
   "execution_count": 85,
   "metadata": {},
   "outputs": [],
   "source": [
    "GENRE_URL = 'https://www.wikiart.org/en/artists-by-genre/portrait/text-list'\n",
    "ARTIST_URL = 'https://www.wikiart.org/{artist}/all-works/text-list'\n",
    "PAINTING_URL = 'https://www.wikiart.org{painting_path}'"
   ]
  },
  {
   "cell_type": "code",
   "execution_count": 86,
   "metadata": {},
   "outputs": [],
   "source": [
    "request = requests.get(GENRE_URL)\n",
    "soup = BeautifulSoup(request.text,'lxml')"
   ]
  },
  {
   "cell_type": "code",
   "execution_count": 24,
   "metadata": {},
   "outputs": [],
   "source": [
    "artist_div =  soup.find('div', class_ = \"masonry-text-view masonry-text-view-all\")"
   ]
  },
  {
   "cell_type": "code",
   "execution_count": 87,
   "metadata": {},
   "outputs": [],
   "source": [
    "#Finding only Russian artists\n",
    "artist_tup = []\n",
    "artists = []\n",
    "for link in artist_div.find_all('li'):\n",
    "#     if link.span.text[2:] == 'Russian' or link.span.text[2:] == 'French':\n",
    "    if link.span.text[2:] == 'Russian':\n",
    "#         print(link.a['href'][4:])\n",
    "        artists.append(link.a['href'])\n",
    "        artist_tup.append((link.a['href'][4:],link.span.text[2:]))\n",
    "#         print(link.span.text[2:])"
   ]
  },
  {
   "cell_type": "code",
   "execution_count": 88,
   "metadata": {},
   "outputs": [],
   "source": [
    "# Formating links to each artist\n",
    "for x in range(len(artists)):\n",
    "    artists[x] = ARTIST_URL.format(artist = artists[x])"
   ]
  },
  {
   "cell_type": "code",
   "execution_count": 90,
   "metadata": {},
   "outputs": [],
   "source": [
    "#Gathers all images from individual artists\n",
    "def image_scrape(lst):\n",
    "    painting_paths = []\n",
    "    for x in lst:\n",
    "        #Gathering links of artist page\n",
    "        artist_page = requests.get(x)\n",
    "        soup = BeautifulSoup(artist_page.text, 'lxml')\n",
    "        # retreive all rows in painting-list\n",
    "        for li in soup.find_all('li', {'class': 'painting-list-text-row'}):\n",
    "            # retrieve all links in the current row\n",
    "            for link in li.find_all('a'):\n",
    "                href = link.get('href')\n",
    "                # store in dictionary\n",
    "                painting_paths.append(href)\n",
    "    return painting_paths"
   ]
  },
  {
   "cell_type": "code",
   "execution_count": 91,
   "metadata": {},
   "outputs": [],
   "source": [
    "#May take couple minutes to run \n",
    "painting_lst = image_scrape(artists)"
   ]
  },
  {
   "cell_type": "code",
   "execution_count": 92,
   "metadata": {},
   "outputs": [],
   "source": [
    "#Saving painting name, date, and nationality for the paintings\n",
    "\n",
    "df = pd.DataFrame(columns=['name','year','nationality'])\n",
    "def name_and_date(painting_url):\n",
    "    for x in range(len(artist_tup)):\n",
    "        if artist_tup[x][0] in painting_url:\n",
    "            try:\n",
    "                year = int(painting_url[-4:])\n",
    "                name = painting_url[5+ len(artist_tup[x][0]):]\n",
    "                nationality = artist_tup[x][1]\n",
    "                \n",
    "                df.loc[len(df)] = [name,year,nationality]\n",
    "            except:\n",
    "                year = np.nan\n",
    "                name = painting_url[5+ len(artist_tup[x][0]):]\n",
    "                nationality = artist_tup[x][1]\n",
    "                \n",
    "                df.loc[len(df)] = [name,year,nationality]"
   ]
  },
  {
   "cell_type": "code",
   "execution_count": 93,
   "metadata": {},
   "outputs": [],
   "source": [
    "for path in painting_lst:\n",
    "    name_and_date(path)"
   ]
  },
  {
   "cell_type": "code",
   "execution_count": 95,
   "metadata": {},
   "outputs": [],
   "source": [
    "image_direc = \"C://Users//Kangster150//Downloads//WD HDD//DSC 160 Images//image_dir//All Russian Photos\"\n",
    "image_collection = []\n",
    "for i in os.listdir(image_direc):\n",
    "    image_file = os.path.join(image_direc, i)\n",
    "    no_jpg = i[:-4]\n",
    "    if no_jpg in df['name'].tolist():\n",
    "        image_collection.append(i)"
   ]
  },
  {
   "cell_type": "code",
   "execution_count": 96,
   "metadata": {},
   "outputs": [],
   "source": [
    "def calc_stats(filename, file_folder):\n",
    "    image_stats = []\n",
    "    \n",
    "    #file path for file name created\n",
    "    image_direc = \"C://Users//Kangster150//Downloads//WD HDD//DSC 160 Images//image_dir//\" + str(file_folder)\n",
    "    image_file = os.path.join(image_direc, filename)\n",
    "    \n",
    "    # collection of width and height\n",
    "    curr_file = io.imread(image_file)\n",
    "    image_width = curr_file.shape[1]\n",
    "    image_height = curr_file.shape[0]\n",
    "    \n",
    "    # collection of (mean) hue, saturation and value\n",
    "    image_rgb = curr_file\n",
    "    image_hsv = rgb2hsv(image_rgb)\n",
    "    \n",
    "    image_hue = image_hsv[:, :, 0]\n",
    "    image_sat = image_hsv[:,:, 1]\n",
    "    image_val = image_hsv[:, :, 2]\n",
    "    \n",
    "    hue_mean = np.mean(image_hue, axis=(0,1))\n",
    "    sat_mean = np.mean(image_sat, axis=(0,1))\n",
    "    val_mean = np.mean(image_val)\n",
    "    \n",
    "    image_stats.append(image_width)\n",
    "    image_stats.append(image_height)\n",
    "    image_stats.append(hue_mean)\n",
    "    image_stats.append(sat_mean)\n",
    "    image_stats.append(val_mean)\n",
    "    \n",
    "    return image_stats"
   ]
  },
  {
   "cell_type": "code",
   "execution_count": 99,
   "metadata": {},
   "outputs": [],
   "source": [
    "# your code here\n",
    "russian_stats_df = pd.DataFrame(columns=['name', 'width', 'height', 'mean_hue',\n",
    "                                       'mean_saturation', 'mean_brightness'])\n",
    "no_russian_stats = []\n",
    "for i in image_collection:\n",
    "    try:\n",
    "        curr_img_stats = calc_stats(i, \"All Russian Photos\")\n",
    "        russian_stats_df = russian_stats_df.append({'name':i[:-4], 'width': curr_img_stats[0], \n",
    "                                                  'height': curr_img_stats[1] , \n",
    "                                                  'mean_hue': curr_img_stats[2],\n",
    "                                                   'mean_saturation': curr_img_stats[3], \n",
    "                                                  'mean_brightness': curr_img_stats[4]} , ignore_index=True)\n",
    "    except:\n",
    "        no_russian_stats.append(i)"
   ]
  },
  {
   "cell_type": "code",
   "execution_count": 101,
   "metadata": {},
   "outputs": [],
   "source": [
    "#Function to normalize naming\n",
    "def remove_date(string):\n",
    "    if string[-4:].isnumeric() == True:\n",
    "        return string[:-5]\n",
    "    else:\n",
    "        return string"
   ]
  },
  {
   "cell_type": "code",
   "execution_count": 102,
   "metadata": {},
   "outputs": [],
   "source": [
    "russian_stats_df['name'] = russian_stats_df['name'].apply(remove_date)"
   ]
  },
  {
   "cell_type": "code",
   "execution_count": 105,
   "metadata": {},
   "outputs": [],
   "source": [
    "df['name'] = df['name'].apply(remove_date)"
   ]
  },
  {
   "cell_type": "code",
   "execution_count": 110,
   "metadata": {},
   "outputs": [],
   "source": [
    "russian_complete = pd.merge(df,russian_stats_df, on='name')"
   ]
  },
  {
   "cell_type": "markdown",
   "metadata": {},
   "source": [
    "### Statistics Collection for French Images\n",
    "- data includes images that are capable of providing specific statistics\n",
    "- images unable to provide statistics are stored in separate list"
   ]
  },
  {
   "cell_type": "code",
   "execution_count": 111,
   "metadata": {},
   "outputs": [],
   "source": [
    "#Finding only French artists\n",
    "artist_tup = []\n",
    "artists = []\n",
    "for link in artist_div.find_all('li'):\n",
    "#     if link.span.text[2:] == 'Russian' or link.span.text[2:] == 'French':\n",
    "    if link.span.text[2:] == 'French':\n",
    "#         print(link.a['href'][4:])\n",
    "        artists.append(link.a['href'])\n",
    "        artist_tup.append((link.a['href'][4:],link.span.text[2:]))\n",
    "#         print(link.span.text[2:])"
   ]
  },
  {
   "cell_type": "code",
   "execution_count": 112,
   "metadata": {},
   "outputs": [],
   "source": [
    "# Formating links to each artist\n",
    "for x in range(len(artists)):\n",
    "    artists[x] = ARTIST_URL.format(artist = artists[x])"
   ]
  },
  {
   "cell_type": "code",
   "execution_count": 113,
   "metadata": {},
   "outputs": [],
   "source": [
    "#Gathers all images from individual artists\n",
    "def image_scrape(lst):\n",
    "    painting_paths = []\n",
    "    for x in lst:\n",
    "        #Gathering links of artist page\n",
    "        artist_page = requests.get(x)\n",
    "        soup = BeautifulSoup(artist_page.text, 'lxml')\n",
    "        # retreive all rows in painting-list\n",
    "        for li in soup.find_all('li', {'class': 'painting-list-text-row'}):\n",
    "            # retrieve all links in the current row\n",
    "            for link in li.find_all('a'):\n",
    "                href = link.get('href')\n",
    "                # store in dictionary\n",
    "                painting_paths.append(href)\n",
    "    return painting_paths"
   ]
  },
  {
   "cell_type": "code",
   "execution_count": 114,
   "metadata": {},
   "outputs": [],
   "source": [
    "#May take couple minutes to run \n",
    "painting_lst = image_scrape(artists)"
   ]
  },
  {
   "cell_type": "code",
   "execution_count": 116,
   "metadata": {},
   "outputs": [],
   "source": [
    "for path in painting_lst:\n",
    "    name_and_date(path)"
   ]
  },
  {
   "cell_type": "code",
   "execution_count": 117,
   "metadata": {},
   "outputs": [],
   "source": [
    "image_direc = \"C://Users//Kangster150//Downloads//WD HDD//DSC 160 Images//image_dir//All French Photos\"\n",
    "image_collection = []\n",
    "for i in os.listdir(image_direc):\n",
    "    image_file = os.path.join(image_direc, i)\n",
    "    no_jpg = i[:-4]\n",
    "    if no_jpg in df['name'].tolist():\n",
    "        image_collection.append(i)"
   ]
  },
  {
   "cell_type": "code",
   "execution_count": 123,
   "metadata": {},
   "outputs": [],
   "source": [
    "# your code here\n",
    "french_stats_df = pd.DataFrame(columns=['name', 'width', 'height', 'mean_hue',\n",
    "                                       'mean_saturation', 'mean_brightness'])\n",
    "no_french_stats = []\n",
    "for i in image_collection:\n",
    "    try:\n",
    "        curr_img_stats = calc_stats(i, \"All French Photos\")\n",
    "        french_stats_df = french_stats_df.append({'name':i[:-4], 'width': curr_img_stats[0], \n",
    "                                                  'height': curr_img_stats[1] , \n",
    "                                                  'mean_hue': curr_img_stats[2],\n",
    "                                                   'mean_saturation': curr_img_stats[3], \n",
    "                                                  'mean_brightness': curr_img_stats[4]} , ignore_index=True)\n",
    "    except:\n",
    "        no_french_stats.append(i)"
   ]
  },
  {
   "cell_type": "code",
   "execution_count": 124,
   "metadata": {},
   "outputs": [],
   "source": [
    "french_stats_df['name'] = french_stats_df['name'].apply(remove_date)"
   ]
  },
  {
   "cell_type": "code",
   "execution_count": 125,
   "metadata": {},
   "outputs": [],
   "source": [
    "df['name'] = df['name'].apply(remove_date)"
   ]
  },
  {
   "cell_type": "code",
   "execution_count": 126,
   "metadata": {},
   "outputs": [],
   "source": [
    "french_complete = pd.merge(df,french_stats_df, on='name')"
   ]
  },
  {
   "cell_type": "markdown",
   "metadata": {},
   "source": [
    "### Complete Image Statistics"
   ]
  },
  {
   "cell_type": "code",
   "execution_count": 127,
   "metadata": {},
   "outputs": [],
   "source": [
    "complete_image_stats = pd.concat([russian_complete, \n",
    "                                  french_complete], ignore_index=True)"
   ]
  },
  {
   "cell_type": "code",
   "execution_count": 128,
   "metadata": {},
   "outputs": [
    {
     "data": {
      "text/html": [
       "<div>\n",
       "<style scoped>\n",
       "    .dataframe tbody tr th:only-of-type {\n",
       "        vertical-align: middle;\n",
       "    }\n",
       "\n",
       "    .dataframe tbody tr th {\n",
       "        vertical-align: top;\n",
       "    }\n",
       "\n",
       "    .dataframe thead th {\n",
       "        text-align: right;\n",
       "    }\n",
       "</style>\n",
       "<table border=\"1\" class=\"dataframe\">\n",
       "  <thead>\n",
       "    <tr style=\"text-align: right;\">\n",
       "      <th></th>\n",
       "      <th>name</th>\n",
       "      <th>year</th>\n",
       "      <th>nationality</th>\n",
       "      <th>width</th>\n",
       "      <th>height</th>\n",
       "      <th>mean_hue</th>\n",
       "      <th>mean_saturation</th>\n",
       "      <th>mean_brightness</th>\n",
       "    </tr>\n",
       "  </thead>\n",
       "  <tbody>\n",
       "    <tr>\n",
       "      <th>0</th>\n",
       "      <td>tzarina-natalia-alekseevna-1</td>\n",
       "      <td>NaN</td>\n",
       "      <td>Russian</td>\n",
       "      <td>550</td>\n",
       "      <td>689</td>\n",
       "      <td>0.213050</td>\n",
       "      <td>0.433988</td>\n",
       "      <td>0.237776</td>\n",
       "    </tr>\n",
       "    <tr>\n",
       "      <th>1</th>\n",
       "      <td>portrait-of-elizaveta-petrovna-as-a-child</td>\n",
       "      <td>1713</td>\n",
       "      <td>Russian</td>\n",
       "      <td>550</td>\n",
       "      <td>698</td>\n",
       "      <td>0.109722</td>\n",
       "      <td>0.433142</td>\n",
       "      <td>0.232679</td>\n",
       "    </tr>\n",
       "    <tr>\n",
       "      <th>2</th>\n",
       "      <td>tzarina-praskovia-ioanovna</td>\n",
       "      <td>1714</td>\n",
       "      <td>Russian</td>\n",
       "      <td>1400</td>\n",
       "      <td>1817</td>\n",
       "      <td>0.250579</td>\n",
       "      <td>0.296722</td>\n",
       "      <td>0.240346</td>\n",
       "    </tr>\n",
       "    <tr>\n",
       "      <th>3</th>\n",
       "      <td>peter-i</td>\n",
       "      <td>NaN</td>\n",
       "      <td>Russian</td>\n",
       "      <td>590</td>\n",
       "      <td>800</td>\n",
       "      <td>0.461972</td>\n",
       "      <td>0.368354</td>\n",
       "      <td>0.385637</td>\n",
       "    </tr>\n",
       "    <tr>\n",
       "      <th>4</th>\n",
       "      <td>peter-i</td>\n",
       "      <td>NaN</td>\n",
       "      <td>Russian</td>\n",
       "      <td>640</td>\n",
       "      <td>783</td>\n",
       "      <td>0.556476</td>\n",
       "      <td>0.444790</td>\n",
       "      <td>0.135088</td>\n",
       "    </tr>\n",
       "    <tr>\n",
       "      <th>...</th>\n",
       "      <td>...</td>\n",
       "      <td>...</td>\n",
       "      <td>...</td>\n",
       "      <td>...</td>\n",
       "      <td>...</td>\n",
       "      <td>...</td>\n",
       "      <td>...</td>\n",
       "      <td>...</td>\n",
       "    </tr>\n",
       "    <tr>\n",
       "      <th>3615</th>\n",
       "      <td>view-from-rue-de-la-chaise</td>\n",
       "      <td>2005</td>\n",
       "      <td>French</td>\n",
       "      <td>400</td>\n",
       "      <td>329</td>\n",
       "      <td>0.291260</td>\n",
       "      <td>0.240882</td>\n",
       "      <td>0.420620</td>\n",
       "    </tr>\n",
       "    <tr>\n",
       "      <th>3616</th>\n",
       "      <td>view-over-rue-de-grenelle</td>\n",
       "      <td>2005</td>\n",
       "      <td>French</td>\n",
       "      <td>309</td>\n",
       "      <td>413</td>\n",
       "      <td>0.000000</td>\n",
       "      <td>0.000000</td>\n",
       "      <td>0.697255</td>\n",
       "    </tr>\n",
       "    <tr>\n",
       "      <th>3617</th>\n",
       "      <td>nightgown</td>\n",
       "      <td>2006</td>\n",
       "      <td>French</td>\n",
       "      <td>400</td>\n",
       "      <td>329</td>\n",
       "      <td>0.251990</td>\n",
       "      <td>0.167029</td>\n",
       "      <td>0.439734</td>\n",
       "    </tr>\n",
       "    <tr>\n",
       "      <th>3618</th>\n",
       "      <td>self-portrait-drawing</td>\n",
       "      <td>2008</td>\n",
       "      <td>French</td>\n",
       "      <td>436</td>\n",
       "      <td>600</td>\n",
       "      <td>0.100010</td>\n",
       "      <td>0.106837</td>\n",
       "      <td>0.802831</td>\n",
       "    </tr>\n",
       "    <tr>\n",
       "      <th>3619</th>\n",
       "      <td>chinese-vegetables</td>\n",
       "      <td>NaN</td>\n",
       "      <td>French</td>\n",
       "      <td>567</td>\n",
       "      <td>570</td>\n",
       "      <td>0.158567</td>\n",
       "      <td>0.453995</td>\n",
       "      <td>0.667515</td>\n",
       "    </tr>\n",
       "  </tbody>\n",
       "</table>\n",
       "<p>3620 rows × 8 columns</p>\n",
       "</div>"
      ],
      "text/plain": [
       "                                           name  year nationality width  \\\n",
       "0                  tzarina-natalia-alekseevna-1   NaN     Russian   550   \n",
       "1     portrait-of-elizaveta-petrovna-as-a-child  1713     Russian   550   \n",
       "2                    tzarina-praskovia-ioanovna  1714     Russian  1400   \n",
       "3                                       peter-i   NaN     Russian   590   \n",
       "4                                       peter-i   NaN     Russian   640   \n",
       "...                                         ...   ...         ...   ...   \n",
       "3615                 view-from-rue-de-la-chaise  2005      French   400   \n",
       "3616                  view-over-rue-de-grenelle  2005      French   309   \n",
       "3617                                  nightgown  2006      French   400   \n",
       "3618                      self-portrait-drawing  2008      French   436   \n",
       "3619                         chinese-vegetables   NaN      French   567   \n",
       "\n",
       "     height  mean_hue  mean_saturation  mean_brightness  \n",
       "0       689  0.213050         0.433988         0.237776  \n",
       "1       698  0.109722         0.433142         0.232679  \n",
       "2      1817  0.250579         0.296722         0.240346  \n",
       "3       800  0.461972         0.368354         0.385637  \n",
       "4       783  0.556476         0.444790         0.135088  \n",
       "...     ...       ...              ...              ...  \n",
       "3615    329  0.291260         0.240882         0.420620  \n",
       "3616    413  0.000000         0.000000         0.697255  \n",
       "3617    329  0.251990         0.167029         0.439734  \n",
       "3618    600  0.100010         0.106837         0.802831  \n",
       "3619    570  0.158567         0.453995         0.667515  \n",
       "\n",
       "[3620 rows x 8 columns]"
      ]
     },
     "execution_count": 128,
     "metadata": {},
     "output_type": "execute_result"
    }
   ],
   "source": [
    "complete_image_stats"
   ]
  },
  {
   "cell_type": "code",
   "execution_count": null,
   "metadata": {},
   "outputs": [],
   "source": []
  }
 ],
 "metadata": {
  "kernelspec": {
   "display_name": "Python 3",
   "language": "python",
   "name": "python3"
  },
  "language_info": {
   "codemirror_mode": {
    "name": "ipython",
    "version": 3
   },
   "file_extension": ".py",
   "mimetype": "text/x-python",
   "name": "python",
   "nbconvert_exporter": "python",
   "pygments_lexer": "ipython3",
   "version": "3.7.7"
  }
 },
 "nbformat": 4,
 "nbformat_minor": 4
}
